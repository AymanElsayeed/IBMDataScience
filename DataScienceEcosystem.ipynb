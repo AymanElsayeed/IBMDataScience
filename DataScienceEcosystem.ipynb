{
 "cells": [
  {
   "cell_type": "markdown",
   "source": [
    "# Data Science Tools and Ecosystem"
   ],
   "metadata": {
    "collapsed": false
   },
   "id": "ff3301e320bc3cb9"
  },
  {
   "cell_type": "markdown",
   "source": [
    "In this notebook, Data Science Tools and Ecosystem are summarized.\n",
    "\n",
    "Objectives:\n",
    "\n",
    "- Some of the popular languages that Data Scientists\n",
    "- Some of the commonly used libraries used by Data Scientists\n",
    "- Data Science Tools\n",
    "- Use of Jupyter Notebook"
   ],
   "metadata": {
    "collapsed": false
   },
   "id": "dd4521b5bb7b41a6"
  },
  {
   "cell_type": "markdown",
   "source": [
    "Some of the popular languages that Data Scientists use are:\n",
    "\n",
    "Python\n",
    "R \n",
    "Julia\n",
    "Scala\n",
    "SQL\n",
    "Java"
   ],
   "metadata": {
    "collapsed": false
   },
   "id": "bd428a591950b708"
  },
  {
   "cell_type": "markdown",
   "source": [
    "Some of the commonly used libraries used by Data Scientists include:\n",
    "\n",
    "Numpy\n",
    "Pandas\n",
    "Matplotlib\n",
    "Seaborn\n",
    "Scikit-learn\n",
    "TensorFlow\n",
    "Keras\n",
    "PyTorch\n",
    "NLTK"
   ],
   "metadata": {
    "collapsed": false
   },
   "id": "4885cb66807e83ad"
  },
  {
   "cell_type": "markdown",
   "source": [
    "# Data Science Tools\n",
    "\n",
    "| Data Science Tools |\n",
    "|--------------------|\n",
    "| Jupyter Notebook   |\n",
    "| Jupyter Lab        |\n",
    "| RStudio            |\n",
    "| PyCharm            |\n",
    "| Spyder             |\n",
    "| Visual Studio Code |\n",
    "| Anaconda           |\n"
   ],
   "metadata": {
    "collapsed": false
   },
   "id": "71e6e4f1785c8373"
  },
  {
   "cell_type": "markdown",
   "source": [
    "### Below are a few examples of evaluating arithmetic expressions in Python"
   ],
   "metadata": {
    "collapsed": false
   },
   "id": "cb9a971223607a0d"
  },
  {
   "cell_type": "code",
   "outputs": [
    {
     "data": {
      "text/plain": "17"
     },
     "execution_count": 7,
     "metadata": {},
     "output_type": "execute_result"
    }
   ],
   "source": [
    "(3*4)+5"
   ],
   "metadata": {
    "collapsed": false,
    "ExecuteTime": {
     "end_time": "2024-03-14T11:17:16.494227Z",
     "start_time": "2024-03-14T11:17:16.493407Z"
    }
   },
   "id": "bc807774d61d3666",
   "execution_count": 7
  },
  {
   "cell_type": "code",
   "outputs": [
    {
     "data": {
      "text/plain": "3.3333333333333335"
     },
     "execution_count": 8,
     "metadata": {},
     "output_type": "execute_result"
    }
   ],
   "source": [
    "#  This will convert 200 minutes to hours by diving by 60\n",
    "200/60"
   ],
   "metadata": {
    "collapsed": false,
    "ExecuteTime": {
     "end_time": "2024-03-14T11:17:16.720670Z",
     "start_time": "2024-03-14T11:17:16.718594Z"
    }
   },
   "id": "c69f1c4382d54011",
   "execution_count": 8
  },
  {
   "cell_type": "code",
   "outputs": [],
   "source": [],
   "metadata": {
    "collapsed": false,
    "ExecuteTime": {
     "end_time": "2024-03-14T11:17:16.924195Z",
     "start_time": "2024-03-14T11:17:16.920922Z"
    }
   },
   "id": "ef971e18e9467b22",
   "execution_count": 8
  },
  {
   "cell_type": "markdown",
   "source": [
    "## Author: Ayman Elsayeed"
   ],
   "metadata": {
    "collapsed": false
   },
   "id": "c83288b65246df2b"
  },
  {
   "cell_type": "code",
   "outputs": [],
   "source": [],
   "metadata": {
    "collapsed": false
   },
   "id": "e537da388a2efe8d"
  }
 ],
 "metadata": {
  "kernelspec": {
   "display_name": "Python 3",
   "language": "python",
   "name": "python3"
  },
  "language_info": {
   "codemirror_mode": {
    "name": "ipython",
    "version": 2
   },
   "file_extension": ".py",
   "mimetype": "text/x-python",
   "name": "python",
   "nbconvert_exporter": "python",
   "pygments_lexer": "ipython2",
   "version": "2.7.6"
  }
 },
 "nbformat": 4,
 "nbformat_minor": 5
}
